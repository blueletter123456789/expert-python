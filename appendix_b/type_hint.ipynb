{
 "cells": [
  {
   "cell_type": "markdown",
   "metadata": {},
   "source": [
    "### 変数の型付け"
   ]
  },
  {
   "cell_type": "code",
   "execution_count": null,
   "metadata": {},
   "outputs": [],
   "source": [
    "# 変数の型付け\n",
    "i_love_python: bool = True\n",
    "# 代入を後回しにしても良い\n",
    "i_love_python: bool\n",
    "i_love_python = True"
   ]
  },
  {
   "cell_type": "markdown",
   "metadata": {},
   "source": [
    "### 関数やメソッドの型付け"
   ]
  },
  {
   "cell_type": "code",
   "execution_count": 1,
   "metadata": {},
   "outputs": [],
   "source": [
    "# 関数の型付け\n",
    "def greeting(name: str) -> str:\n",
    "    return f'Hello Guido, my name is {name}'\n",
    "\n",
    "# ツールでは型チェックエラー\n",
    "greeting(10)\n",
    "\n",
    "# 戻り値がない場合はNone\n",
    "import sys\n",
    "def show_python_version() -> None:\n",
    "    print(sys.version)"
   ]
  },
  {
   "cell_type": "markdown",
   "metadata": {},
   "source": [
    "### ユーザー定義クラスの型付け"
   ]
  },
  {
   "cell_type": "code",
   "execution_count": 2,
   "metadata": {},
   "outputs": [],
   "source": [
    "# クラスの型付け\n",
    "from typing import ClassVar\n",
    "\n",
    "\n",
    "class UndefinedMysteriousAnimal:\n",
    "    \"\"\"\n",
    "    未確認生物クラス\n",
    "    \"\"\"\n",
    "    name: str = 'unknown'  # デフォルト値\n",
    "    country: str  # デフォルト値がないインスタンス変数\n",
    "    year: int\n",
    "\n",
    "    joke: ClassVar[bool] = True  # クラス変数として定義\n",
    "\n",
    "    def __init__(self, name: str, country: str, year: int) -> None:\n",
    "        self.name = name\n",
    "        self.country = country\n",
    "        self.year = year\n",
    "\n",
    "killer_rabbit = UndefinedMysteriousAnimal('殺人ウサギ', \"Great Britain\", 1975)"
   ]
  },
  {
   "cell_type": "markdown",
   "metadata": {},
   "source": [
    "### 特定の文字列や数値のリテラルのみを許可する"
   ]
  },
  {
   "cell_type": "code",
   "execution_count": 3,
   "metadata": {},
   "outputs": [],
   "source": [
    "# リテラル\n",
    "try:\n",
    "    from typing import Literal\n",
    "except ImportError:\n",
    "    from typing_extensions import Literal\n",
    "\n",
    "train_type: Literal['各駅停車', '準急', '急行']\n",
    "\n",
    "# 許可された文字列は設定可能\n",
    "train_type = '準急'\n",
    "\n",
    "# 許可されていない文字列はツールにて型チェックエラー\n",
    "train_type = '超特急'"
   ]
  },
  {
   "cell_type": "markdown",
   "metadata": {},
   "source": [
    "### ジェネリクス"
   ]
  },
  {
   "cell_type": "code",
   "execution_count": null,
   "metadata": {},
   "outputs": [],
   "source": [
    "# python3.7, 3.8では以下のインポートが必要\n",
    "# from __future__ import annotations\n",
    "my_favorite_sketches: list[str] = ['殺人ジョーク', '死んだオウム']\n",
    "\n",
    "# python3.6もサポートする書き方\n",
    "from typing import List\n",
    "my_favorite_sketches: List[str] = ['殺人ジョーク', '死んだオウム']"
   ]
  },
  {
   "cell_type": "markdown",
   "metadata": {},
   "source": [
    "### タプルと他のシーケンスの違い"
   ]
  },
  {
   "cell_type": "code",
   "execution_count": null,
   "metadata": {},
   "outputs": [],
   "source": [
    "# python3.9でのタプルの文法例\n",
    "# 全ての要素の方を要素順に指定する\n",
    "t1: tuple[str, str, str] = ('空飛ぶ', 'モンティ', 'パイソン')\n",
    "\n",
    "# 要素数と合っていない場合はエラー\n",
    "t2: tuple[str] = (\"Monty\", \"Python's\", \"Flying\", \"Circus\")\n",
    "\n",
    "# リストは全ての要素が同一の場合は１つの型のみを定義する\n",
    "t3: list[str] = [\"Monty\", \"Python\", \"and\", \"Holy\", \"Grail\"]\n",
    "\n",
    "# タプルにて同一の型を任意長持つ場合はellipsisを使用する\n",
    "t: tuple[str, ...] = (\"Monty\", \"Python's\", \"Flying\", \"Circus\")"
   ]
  }
 ],
 "metadata": {
  "kernelspec": {
   "display_name": "Python 3.9.9 64-bit ('shims')",
   "language": "python",
   "name": "python3"
  },
  "language_info": {
   "codemirror_mode": {
    "name": "ipython",
    "version": 3
   },
   "file_extension": ".py",
   "mimetype": "text/x-python",
   "name": "python",
   "nbconvert_exporter": "python",
   "pygments_lexer": "ipython3",
   "version": "3.9.9 (main, May  2 2022, 21:35:30) \n[Clang 13.0.0 (clang-1300.0.29.3)]"
  },
  "orig_nbformat": 4,
  "vscode": {
   "interpreter": {
    "hash": "71872653786f7c29614eefcceb2e375f4123be5e12270c1cabe973a72d127e5c"
   }
  }
 },
 "nbformat": 4,
 "nbformat_minor": 2
}
