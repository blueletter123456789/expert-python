{
 "cells": [
  {
   "attachments": {},
   "cell_type": "markdown",
   "metadata": {},
   "source": [
    "### 名前付けガイド"
   ]
  },
  {
   "cell_type": "code",
   "execution_count": null,
   "metadata": {},
   "outputs": [],
   "source": [
    "# ブール値の名前の前にはhasかisをつける\n",
    "class DB:\n",
    "    is_connected = False\n",
    "    has_cache = False\n"
   ]
  },
  {
   "cell_type": "code",
   "execution_count": null,
   "metadata": {},
   "outputs": [],
   "source": [
    "# コレクションの変数名は複数形にする\n",
    "class DB:\n",
    "    connected_users = ['Tarek']\n",
    "    tables = [\n",
    "        {\n",
    "            'Customer': [\n",
    "                'id',\n",
    "                'first_name',\n",
    "                'last_name',\n",
    "            ]\n",
    "        }\n",
    "    ]\n"
   ]
  },
  {
   "cell_type": "code",
   "execution_count": null,
   "metadata": {},
   "outputs": [],
   "source": [
    "# 辞書型に明示的な名前をつける\n",
    "persons_addresses = {\n",
    "    'Bill': '6565 Monty Road',\n",
    "    'Pamela': '45 Python street',\n",
    "}\n"
   ]
  },
  {
   "cell_type": "code",
   "execution_count": null,
   "metadata": {},
   "outputs": [],
   "source": [
    "# 汎用性の高い名前や冗長な名前を避ける\n",
    "# 汎用的な名前\n",
    "def compute(data):\n",
    "    for element in data:\n",
    "        yield element ** 2\n",
    "\n",
    "# 良い命名\n",
    "def squares(numbers):\n",
    "    for number in numbers:\n",
    "        yield number ** 2\n"
   ]
  },
  {
   "cell_type": "code",
   "execution_count": null,
   "metadata": {},
   "outputs": [],
   "source": [
    "# 既存の名前を避ける\n",
    "def xapian_query(terms, or_=True):\n",
    "    \"\"\"or_がTrueの場合、termsはOR句による組み合わされる\n",
    "    \"\"\"\n",
    "    def factory(klass, *args, **kwargs):\n",
    "        # classという単語はcls, klassに置き換える\n",
    "        return klass(*args, **kwargs)\n"
   ]
  }
 ],
 "metadata": {
  "language_info": {
   "name": "python"
  },
  "orig_nbformat": 4
 },
 "nbformat": 4,
 "nbformat_minor": 2
}
