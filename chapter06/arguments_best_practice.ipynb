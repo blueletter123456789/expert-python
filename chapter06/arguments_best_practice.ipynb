{
 "cells": [
  {
   "attachments": {},
   "cell_type": "markdown",
   "metadata": {},
   "source": [
    "### 引数のベストプラクティス"
   ]
  },
  {
   "attachments": {},
   "cell_type": "markdown",
   "metadata": {},
   "source": [
    "#### 反復型設計を行いながら引数を作成する"
   ]
  },
  {
   "cell_type": "code",
   "execution_count": null,
   "metadata": {},
   "outputs": [],
   "source": [
    "# バージョン１\n",
    "class Service:\n",
    "    def _query(self, query, type):\n",
    "        print('done')\n",
    "    \n",
    "    def execute(self, query):\n",
    "        self._query(query, 'EXECUTE')\n",
    "\n",
    "# バージョン2\n",
    "import logging\n",
    "class Service:\n",
    "    def _qeury(self, query, type, logger):\n",
    "        logger('done')\n",
    "    \n",
    "    def execute(self, query, logger=logging.warning):\n",
    "        self._qeury(query, 'EXECUTE', logger)\n",
    "\n",
    "\n",
    "# バージョン１での呼び出し方法にも対応\n",
    "Service().execute('my query')\n",
    "Service().execute('my query', logging.error)"
   ]
  },
  {
   "attachments": {},
   "cell_type": "markdown",
   "metadata": {},
   "source": [
    "#### 引数とテストを信頼する"
   ]
  },
  {
   "cell_type": "code",
   "execution_count": null,
   "metadata": {},
   "outputs": [],
   "source": [
    "# 契約による設計の引数チェックは極力使用しない\n",
    "def divide(dividend, divisor):\n",
    "    assert isinstance(dividend, (int, float))\n",
    "    assert isinstance(divisor, (int, float))\n",
    "    return dividend / divisor\n",
    "\n",
    "print(divide(10, 7))\n",
    "print(divide('10', 2))\n"
   ]
  },
  {
   "attachments": {},
   "cell_type": "markdown",
   "metadata": {},
   "source": [
    "#### 魔法の引数である*argsと**kwargsは注意して使用する"
   ]
  },
  {
   "cell_type": "code",
   "execution_count": null,
   "metadata": {},
   "outputs": [],
   "source": [
    "# 不必要なparserを作成してしまう\n",
    "def fuzzy_things(**kwargs):\n",
    "    if 'do_this' in kwargs:\n",
    "        print('finished this')\n",
    "    if 'do_that' in kwargs:\n",
    "        print('finished that')\n",
    "    print('ok')\n",
    "\n",
    "\n",
    "fuzzy_things(do_this=1)\n",
    "fuzzy_things(do_that=1)\n",
    "fuzzy_things(what_about_that=1)\n"
   ]
  },
  {
   "cell_type": "code",
   "execution_count": null,
   "metadata": {},
   "outputs": [],
   "source": [
    "# *argeの要素をシーケンスとして使用する場合、個別のコンテナを引数とする\n",
    "# 問題はない書き方\n",
    "def sum(*args):\n",
    "    total = 0\n",
    "    for arg in args:\n",
    "        total += arg\n",
    "    return total\n",
    "\n",
    "# より良い書き方\n",
    "def sum(sequence):\n",
    "    total = 0\n",
    "    for arg in sequence:\n",
    "        total += arg\n",
    "    return total\n",
    "\n",
    "\n",
    "# **kwargsでも引数情報を意味のある引数に固定\n",
    "def make_sentence(**kwargs):\n",
    "    noun = kwargs.get('noun', 'Bill')\n",
    "    verb = kwargs.get('verb', 'is')\n",
    "    adjective = kwargs.get('adjective', 'happy')\n",
    "    return f'{noun} {verb} {adjective}'\n",
    "\n",
    "# 良い書き方\n",
    "def make_sentence(noun='Bill', verb='is', adjective='happy'):\n",
    "    return f'{noun} {verb} {adjective}'\n"
   ]
  }
 ],
 "metadata": {
  "kernelspec": {
   "display_name": "Python 3",
   "language": "python",
   "name": "python3"
  },
  "language_info": {
   "codemirror_mode": {
    "name": "ipython",
    "version": 3
   },
   "file_extension": ".py",
   "mimetype": "text/x-python",
   "name": "python",
   "nbconvert_exporter": "python",
   "pygments_lexer": "ipython3",
   "version": "3.9.9"
  },
  "orig_nbformat": 4,
  "vscode": {
   "interpreter": {
    "hash": "71872653786f7c29614eefcceb2e375f4123be5e12270c1cabe973a72d127e5c"
   }
  }
 },
 "nbformat": 4,
 "nbformat_minor": 2
}
