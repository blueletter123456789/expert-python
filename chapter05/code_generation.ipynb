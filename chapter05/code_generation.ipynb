{
 "cells": [
  {
   "attachments": {},
   "cell_type": "markdown",
   "metadata": {},
   "source": [
    "### 抽象構文木（AST）"
   ]
  },
  {
   "cell_type": "code",
   "execution_count": null,
   "metadata": {},
   "outputs": [],
   "source": [
    "import ast\n",
    "\n",
    "tree = ast.parse('def hello_world(): print(\"hello world!\")')\n",
    "print(tree)\n",
    "\n",
    "print(ast.dump(tree))"
   ]
  },
  {
   "attachments": {},
   "cell_type": "markdown",
   "metadata": {},
   "source": [
    "### Hy"
   ]
  },
  {
   "cell_type": "code",
   "execution_count": null,
   "metadata": {},
   "outputs": [],
   "source": [
    "import hy\n",
    "import hyllo\n",
    "\n",
    "hyllo.hello()\n",
    "\n",
    "# disモジュールでディスアセンブル\n",
    "import dis\n",
    "\n",
    "dis.dis(hyllo.hello)\n",
    "\n",
    "# Pythonのコードとバイトコードが大きく変わらない\n",
    "def hello(): print(\"hello world!\")\n",
    "dis.dis(hello)"
   ]
  }
 ],
 "metadata": {
  "kernelspec": {
   "display_name": ".venv",
   "language": "python",
   "name": "python3"
  },
  "language_info": {
   "codemirror_mode": {
    "name": "ipython",
    "version": 3
   },
   "file_extension": ".py",
   "mimetype": "text/x-python",
   "name": "python",
   "nbconvert_exporter": "python",
   "pygments_lexer": "ipython3",
   "version": "3.9.9"
  },
  "orig_nbformat": 4,
  "vscode": {
   "interpreter": {
    "hash": "becf2a616f70853688ddf43562d591e9ac1bb40f43e695ba07cd67f3de543ecd"
   }
  }
 },
 "nbformat": 4,
 "nbformat_minor": 2
}
