{
 "cells": [
  {
   "attachments": {},
   "cell_type": "markdown",
   "metadata": {},
   "source": [
    "### クラスデコレータ"
   ]
  },
  {
   "cell_type": "code",
   "execution_count": null,
   "metadata": {},
   "outputs": [],
   "source": [
    "# オブジェクト名を短縮する\n",
    "def short_repr(cls):\n",
    "    cls.__repr__ = lambda self: super(cls, self).__repr__()[:8]\n",
    "    return cls\n",
    "\n",
    "@short_repr\n",
    "class ClassWithRelativelyLongName:\n",
    "    pass\n",
    "\n",
    "print(ClassWithRelativelyLongName())"
   ]
  },
  {
   "cell_type": "code",
   "execution_count": null,
   "metadata": {},
   "outputs": [],
   "source": [
    "# クロージャを使ってパラメータ化\n",
    "def parametrized_short_repr(max_width=8):\n",
    "    \"\"\"オブジェクト表現を短縮するパラメータ化したデコレータ\n",
    "    \"\"\"\n",
    "    def parametrized(cls):\n",
    "        \"\"\"実際のデコレータに相当する内部ラッパー関数\n",
    "        \"\"\"\n",
    "        class ShortlyRepresented(cls):\n",
    "            \"\"\"デコレートされた振る舞いをするサブクラス\n",
    "            \"\"\"\n",
    "            def __repr__(self):\n",
    "                return super().__repr__()[:max_width]\n",
    "        return ShortlyRepresented\n",
    "    return parametrized\n",
    "\n",
    "\n",
    "@parametrized_short_repr(10)\n",
    "class ClassWithRelativelyLongName:\n",
    "    pass\n",
    "\n",
    "\n",
    "print(ClassWithRelativelyLongName())\n",
    "print(ClassWithRelativelyLongName().__class__)\n",
    "print(ClassWithRelativelyLongName().__doc__)"
   ]
  },
  {
   "attachments": {},
   "cell_type": "markdown",
   "metadata": {},
   "source": [
    "#### __new__()を使用してインスタンス生成処理をオーバーライド"
   ]
  },
  {
   "cell_type": "code",
   "execution_count": null,
   "metadata": {},
   "outputs": [],
   "source": [
    "# インスタンスが生成された数を保持。initよりnewが先に呼ばれる\n",
    "class InstanceCountingClass:\n",
    "    instances_created = 0\n",
    "    def __new__(cls, *args, **kwargs):\n",
    "        print(\"__new__() called with:\", cls, args, kwargs)\n",
    "        instance = super().__new__(cls)\n",
    "        instance.number = cls.instances_created\n",
    "        cls.instances_created += 1\n",
    "        return instance\n",
    "    \n",
    "    def __init__(self, attribute):\n",
    "        print(\"__init__() called with:\", self, attribute)\n",
    "        self.attribute = attribute\n",
    "\n",
    "\n",
    "instance1 = InstanceCountingClass(\"abc\")\n",
    "instance2 = InstanceCountingClass(\"xyz\")\n",
    "print(instance1.number, instance1.instances_created)\n",
    "print(instance2.number, instance2.instances_created)"
   ]
  },
  {
   "cell_type": "code",
   "execution_count": null,
   "metadata": {},
   "outputs": [],
   "source": [
    "# __new__()にて他クラスを返却すると__init__()は呼ばれない\n",
    "class NonZero(int):\n",
    "    def __new__(cls, value):\n",
    "        return super().__new__(cls, value) if value != 0 else None\n",
    "    \n",
    "    def __init__(self, skipped_value):\n",
    "        # __init__は呼ばれるか確認のため実装\n",
    "        print(\"__init__() called\")\n",
    "        super().__init__()\n",
    "\n",
    "print(type(NonZero(-12)))\n",
    "print(type(NonZero(0)))\n",
    "print(NonZero(-3.12))"
   ]
  }
 ],
 "metadata": {
  "kernelspec": {
   "display_name": "Python 3",
   "language": "python",
   "name": "python3"
  },
  "language_info": {
   "codemirror_mode": {
    "name": "ipython",
    "version": 3
   },
   "file_extension": ".py",
   "mimetype": "text/x-python",
   "name": "python",
   "nbconvert_exporter": "python",
   "pygments_lexer": "ipython3",
   "version": "3.9.9"
  },
  "orig_nbformat": 4,
  "vscode": {
   "interpreter": {
    "hash": "71872653786f7c29614eefcceb2e375f4123be5e12270c1cabe973a72d127e5c"
   }
  }
 },
 "nbformat": 4,
 "nbformat_minor": 2
}
