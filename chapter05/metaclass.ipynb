{
 "cells": [
  {
   "attachments": {},
   "cell_type": "markdown",
   "metadata": {},
   "source": [
    "### メタクラス"
   ]
  },
  {
   "cell_type": "code",
   "execution_count": null,
   "metadata": {},
   "outputs": [],
   "source": [
    "# type()を使用したクラスを動的に作成する\n",
    "def method(self):\n",
    "    return 1\n",
    "\n",
    "\n",
    "MyClass = type('MyClass', (object,), {'method': method})\n",
    "\n",
    "my_class = MyClass()\n",
    "print(my_class.method())\n",
    "\n",
    "# 以下と同じ\n",
    "class MyClass:\n",
    "    def method(self):\n",
    "        return 1"
   ]
  },
  {
   "cell_type": "code",
   "execution_count": null,
   "metadata": {},
   "outputs": [],
   "source": [
    "# typeクラスと同じ引数を持つメタクラスの作成\n",
    "class MetaClass(type):\n",
    "    def __new__(mcs, name, bases, namespace):\n",
    "        \"\"\"クラスオブジェクトを生成する責任を持つ\n",
    "            name: クラスの名前\n",
    "            bases: 親クラスのリストで、MRO構築で使用する\n",
    "            namespace: クラス本体の定義を持つ名前空間\n",
    "        \"\"\"\n",
    "        return super().__new__(mcs, name, bases, namespace)\n",
    "    \n",
    "    @classmethod\n",
    "    def __prepare__(metacls, __name, __bases, **kwds):\n",
    "        \"\"\" 空の名前空間オブジェクトを生成する。\n",
    "        \"\"\"\n",
    "        return super().__prepare__(__name, __bases, **kwds)\n",
    "    \n",
    "    def __init__(cls, name, bases, namespace, **kwargs):\n",
    "        super().__init__(name, bases, namespace)\n",
    "    \n",
    "    def __call__(self, *args, **kwds):\n",
    "        \"\"\"メタクラスのインスタンスが呼び出された時に実行\n",
    "        \"\"\"\n",
    "        return super().__call__(*args, **kwds)"
   ]
  },
  {
   "cell_type": "code",
   "execution_count": null,
   "metadata": {},
   "outputs": [],
   "source": [
    "# メタクラスをprintでデバッグ\n",
    "class RevealingMeta(type):\n",
    "    def __new__(mcs, name, bases, namespace, **kwargs):\n",
    "        print(mcs, \"__new__ called\")\n",
    "        return super().__new__(mcs, name, bases, namespace)\n",
    "    \n",
    "    @classmethod\n",
    "    def __prepare__(mcs, name, bases, **kwargs):\n",
    "        print(mcs, \"__prepare__ called\")\n",
    "        return super().__prepare__(name, bases, **kwargs)\n",
    "    \n",
    "    def __init__(cls, name, bases, namespace, **kwargs):\n",
    "        print(cls, \"__init__ called\")\n",
    "    \n",
    "    def __call__(cls, *args, **kwds):\n",
    "        print(cls, \"__call__ called\")\n",
    "        return super().__call__(*args, **kwds)\n",
    "\n",
    "\n",
    "class RevealingClass(metaclass=RevealingMeta):\n",
    "    def __new__(cls):\n",
    "        print(cls, \"sub __new__ called\")\n",
    "        return super().__new__(cls)\n",
    "    \n",
    "    def __init__(self):\n",
    "        print(self, \"sub __init__ called\")\n",
    "        super().__init__()\n",
    "\n",
    "instance = RevealingClass()"
   ]
  }
 ],
 "metadata": {
  "kernelspec": {
   "display_name": ".venv",
   "language": "python",
   "name": "python3"
  },
  "language_info": {
   "codemirror_mode": {
    "name": "ipython",
    "version": 3
   },
   "file_extension": ".py",
   "mimetype": "text/x-python",
   "name": "python",
   "nbconvert_exporter": "python",
   "pygments_lexer": "ipython3",
   "version": "3.9.9 (main, May  2 2022, 21:35:30) \n[Clang 13.0.0 (clang-1300.0.29.3)]"
  },
  "orig_nbformat": 4,
  "vscode": {
   "interpreter": {
    "hash": "becf2a616f70853688ddf43562d591e9ac1bb40f43e695ba07cd67f3de543ecd"
   }
  }
 },
 "nbformat": 4,
 "nbformat_minor": 2
}
