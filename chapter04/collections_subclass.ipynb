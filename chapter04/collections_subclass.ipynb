{
 "cells": [
  {
   "cell_type": "code",
   "execution_count": null,
   "metadata": {},
   "outputs": [],
   "source": [
    "# UserDictのサブクラスでは自分自身の操作が必要なくなる\n",
    "from collections import UserDict\n",
    "\n",
    "class DistinctError(ValueError):\n",
    "    \"\"\"distinctdictに重複した値を登録した時に送出される例外です\n",
    "    \"\"\"\n",
    "\n",
    "class distinctdict(UserDict):\n",
    "    \"\"\"重複した値を許さない辞書です\n",
    "    \"\"\"\n",
    "    def __setitem__(self, key, item):\n",
    "        if item in self.values():\n",
    "            if (\n",
    "                (key in self and self[key] != item) or\n",
    "                key not in self\n",
    "            ):\n",
    "                raise DistinctError(\n",
    "                    \"この値は既に他のキーで登録されています\"\n",
    "                )\n",
    "        return super().__setitem__(key, item)\n",
    "\n",
    "my = distinctdict()\n",
    "my['key'] = 'value'\n",
    "\n",
    "try:\n",
    "    my['other_key'] = 'value'\n",
    "except Exception as ex:\n",
    "    print(ex)\n",
    "\n",
    "my['other_key'] = 'value2'\n",
    "\n",
    "print(my)\n",
    "print(my.data)"
   ]
  },
  {
   "cell_type": "code",
   "execution_count": null,
   "metadata": {},
   "outputs": [],
   "source": [
    "# シーケンスを管理するlist型を使用する\n",
    "from collections import UserList\n",
    "\n",
    "class Folder(UserList):\n",
    "    def __init__(self, name):\n",
    "        self.name = name\n",
    "        super().__init__()\n",
    "    \n",
    "    def dir(self, nesting=0):\n",
    "        offset = \" \" * nesting\n",
    "        print(\"%s%s/\" % (offset, self.name))\n",
    "        for element in self:\n",
    "            if hasattr(element, \"dir\"):\n",
    "                element.dir(nesting + 1)\n",
    "            else:\n",
    "                print(\"%s %s\" % (offset, element))\n",
    "\n",
    "tree = Folder('project')\n",
    "tree.append('README.md')\n",
    "tree.dir()\n",
    "print()\n",
    "\n",
    "src = Folder('src')\n",
    "src.append('script.py')\n",
    "tree.append(src)\n",
    "tree.dir()\n",
    "print()\n",
    "\n",
    "tree.remove(src)\n",
    "tree.dir()"
   ]
  }
 ],
 "metadata": {
  "kernelspec": {
   "display_name": "Python 3",
   "language": "python",
   "name": "python3"
  },
  "language_info": {
   "codemirror_mode": {
    "name": "ipython",
    "version": 3
   },
   "file_extension": ".py",
   "mimetype": "text/x-python",
   "name": "python",
   "nbconvert_exporter": "python",
   "pygments_lexer": "ipython3",
   "version": "3.9.9"
  },
  "orig_nbformat": 4,
  "vscode": {
   "interpreter": {
    "hash": "71872653786f7c29614eefcceb2e375f4123be5e12270c1cabe973a72d127e5c"
   }
  }
 },
 "nbformat": 4,
 "nbformat_minor": 2
}
