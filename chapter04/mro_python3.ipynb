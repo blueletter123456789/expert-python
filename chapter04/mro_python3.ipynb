{
 "cells": [
  {
   "attachments": {},
   "cell_type": "markdown",
   "metadata": {},
   "source": [
    "### Python3でのMRO（method resolution order, メソッド解決順序）"
   ]
  },
  {
   "cell_type": "code",
   "execution_count": null,
   "metadata": {},
   "outputs": [],
   "source": [
    "# Python3では祖先よりも親クラスが呼び出される\n",
    "class CommonBase:\n",
    "    def method(self):\n",
    "        print(\"CommonBase\")\n",
    "\n",
    "class Base1(CommonBase):\n",
    "    pass\n",
    "\n",
    "class Base2(CommonBase):\n",
    "    def method(self):\n",
    "        print(\"Base2\")\n",
    "\n",
    "class MyClass(Base1, Base2):\n",
    "    pass\n",
    "\n",
    "MyClass().method()\n",
    "\n",
    "\n",
    "def L(klass):\n",
    "    return [k.__name__ for k in klass.__mro__]\n",
    "print(L(MyClass))"
   ]
  },
  {
   "attachments": {},
   "cell_type": "markdown",
   "metadata": {},
   "source": [
    "### super()の落とし穴"
   ]
  },
  {
   "cell_type": "code",
   "execution_count": null,
   "metadata": {},
   "outputs": [],
   "source": [
    "# 他重継承にて複数呼ばれる場合がある\n",
    "class A:\n",
    "    def __init__(self) -> None:\n",
    "        print(\"A\", end=\" \")\n",
    "        # Bクラスがよばれる\n",
    "        super().__init__()\n",
    "\n",
    "class B:\n",
    "    def __init__(self) -> None:\n",
    "        print(\"B\", end=\" \")\n",
    "        super().__init__()\n",
    "\n",
    "class C(A, B):\n",
    "    def __init__(self) -> None:\n",
    "        print(\"C\", end=\" \")\n",
    "        A.__init__(self)\n",
    "        B.__init__(self)\n",
    "\n",
    "print(\"MRO\", [x.__name__ for x in C.__mro__])\n",
    "C()"
   ]
  },
  {
   "cell_type": "code",
   "execution_count": null,
   "metadata": {},
   "outputs": [],
   "source": [
    "class CommonBase:\n",
    "    def __init__(self):\n",
    "        print('CommonBase')\n",
    "        super().__init__()\n",
    "\n",
    "class Base1(CommonBase):\n",
    "    def __init__(self):\n",
    "        print('Base1')\n",
    "        super().__init__()\n",
    "\n",
    "class Base2(CommonBase):\n",
    "    def __init__(self, arg):\n",
    "        print('Base2')\n",
    "        super().__init__(arg)\n",
    "\n",
    "class MyClass(Base1, Base2):\n",
    "    def __init__(self, arg):\n",
    "        print('my base')\n",
    "        super().__init__(arg)\n",
    "\n",
    "# 引数が異なること場合エラーが発生する\n",
    "try:\n",
    "    MyClass(10)\n",
    "except TypeError as ex:\n",
    "    print(ex)\n",
    "\n",
    "# argsを使用すれば解消はすることができる\n",
    "class CommonBase:\n",
    "    \"\"\"ベストプラクティスとしては以下\n",
    "    多重継承を避ける\n",
    "    superの使用に一貫性を持たせる\n",
    "    親クラスを呼ぶときにはクラス階層を確認する\n",
    "    \"\"\"\n",
    "    def __init__(self, *args, **kwargs):\n",
    "        print('CommonBase')\n",
    "        super().__init__()\n",
    "\n",
    "class Base1(CommonBase):\n",
    "    def __init__(self, *args, **kwargs):\n",
    "        print('Base1')\n",
    "        super().__init__()\n",
    "\n",
    "class Base2(CommonBase):\n",
    "    def __init__(self, *args, **kwargs):\n",
    "        print('Base2')\n",
    "        super().__init__()\n",
    "\n",
    "class MyClass(Base1, Base2):\n",
    "    def __init__(self, *args, **kwargs):\n",
    "        print('my base')\n",
    "        super().__init__()\n",
    "\n",
    "MyClass(10)\n"
   ]
  }
 ],
 "metadata": {
  "kernelspec": {
   "display_name": "Python 3",
   "language": "python",
   "name": "python3"
  },
  "language_info": {
   "codemirror_mode": {
    "name": "ipython",
    "version": 3
   },
   "file_extension": ".py",
   "mimetype": "text/x-python",
   "name": "python",
   "nbconvert_exporter": "python",
   "pygments_lexer": "ipython3",
   "version": "3.9.9"
  },
  "orig_nbformat": 4,
  "vscode": {
   "interpreter": {
    "hash": "71872653786f7c29614eefcceb2e375f4123be5e12270c1cabe973a72d127e5c"
   }
  }
 },
 "nbformat": 4,
 "nbformat_minor": 2
}
