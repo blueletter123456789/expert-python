{
 "cells": [
  {
   "attachments": {},
   "cell_type": "markdown",
   "metadata": {},
   "source": [
    "### スーパークラスへのアクセス"
   ]
  },
  {
   "cell_type": "code",
   "execution_count": null,
   "metadata": {},
   "outputs": [],
   "source": [
    "# 古い記法\n",
    "class Mama:\n",
    "    def says(self):\n",
    "        print('宿題をやりなさい')\n",
    "\n",
    "class Sister(Mama):\n",
    "    def says(self):\n",
    "        Mama.says(self)\n",
    "        print('そして寝室を掃除しなさい')\n",
    "\n",
    "sister = Sister()\n",
    "sister.says()"
   ]
  },
  {
   "cell_type": "code",
   "execution_count": null,
   "metadata": {},
   "outputs": [],
   "source": [
    "# super()を使用したコード\n",
    "class Mama:\n",
    "    def says(self):\n",
    "        print('宿題をやりなさい')\n",
    "\n",
    "class Sister(Mama):\n",
    "    def says(self):\n",
    "        super(Sister, self).says()\n",
    "        print('そして机を掃除しなさい')\n",
    "\n",
    "sister = Sister()\n",
    "sister.says()\n",
    "\n",
    "# 短縮系を使用できる\n",
    "class Sister(Mama):\n",
    "    def says(self):\n",
    "        super().says()\n",
    "        print('そして部屋を掃除しなさい')\n",
    "\n",
    "sister = Sister()\n",
    "sister.says()\n",
    "\n",
    "# 短縮形でない場合はメソッドの外部で使用が可能\n",
    "anita = Sister()\n",
    "super(anita.__class__, anita).says()"
   ]
  },
  {
   "cell_type": "code",
   "execution_count": null,
   "metadata": {},
   "outputs": [],
   "source": [
    "# super関数の第二引数にクラスを渡す場合、classmethodが使用できる\n",
    "class Pizza:\n",
    "    def __init__(self, toppings):\n",
    "        self.toppings = toppings\n",
    "    \n",
    "    def __repr__(self) -> str:\n",
    "        return \"と\".join(self.toppings) + \"がトッピングされたピザ\"\n",
    "    \n",
    "    @classmethod\n",
    "    def recommend(cls):\n",
    "        \"\"\"さまざまなトッピングが入ったおすすめのピザ\n",
    "        \"\"\"\n",
    "        return cls(['スパム', 'ハム', '卵'])\n",
    "\n",
    "class VikingPizza(Pizza):\n",
    "    @classmethod\n",
    "    def recommend(cls):\n",
    "        \"\"\"基本のおすすめのトッピングにスパムを追加\n",
    "        \"\"\"\n",
    "        # クラスの設定が可能\n",
    "        recommended = super(VikingPizza, cls).recommend()\n",
    "        recommended.toppings += ['スパム'] * 5\n",
    "        return recommended\n",
    "\n",
    "print(Pizza.recommend())\n",
    "print(VikingPizza.recommend())"
   ]
  }
 ],
 "metadata": {
  "kernelspec": {
   "display_name": "Python 3",
   "language": "python",
   "name": "python3"
  },
  "language_info": {
   "codemirror_mode": {
    "name": "ipython",
    "version": 3
   },
   "file_extension": ".py",
   "mimetype": "text/x-python",
   "name": "python",
   "nbconvert_exporter": "python",
   "pygments_lexer": "ipython3",
   "version": "3.9.9"
  },
  "orig_nbformat": 4,
  "vscode": {
   "interpreter": {
    "hash": "71872653786f7c29614eefcceb2e375f4123be5e12270c1cabe973a72d127e5c"
   }
  }
 },
 "nbformat": 4,
 "nbformat_minor": 2
}
