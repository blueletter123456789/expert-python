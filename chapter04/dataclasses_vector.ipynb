{
 "cells": [
  {
   "attachments": {},
   "cell_type": "markdown",
   "metadata": {},
   "source": [
    "### dataclassesモジュール"
   ]
  },
  {
   "cell_type": "code",
   "execution_count": null,
   "metadata": {},
   "outputs": [],
   "source": [
    "# 二次元ベクトル値を保持するクラス\n",
    "class Vector:\n",
    "    def __init__(self, x, y):\n",
    "        self.x = x\n",
    "        self.y = y\n",
    "    \n",
    "    def __add__(self, other):\n",
    "        \"\"\"+演算子を使ったベクトルの足し算\n",
    "        \"\"\"\n",
    "        return Vector(\n",
    "            self.x + other.x,\n",
    "            self.y + other.y\n",
    "        )\n",
    "    \n",
    "    def __sub__(self, other):\n",
    "        \"\"\"-演算子を使ったベクトルの引き算\n",
    "        \"\"\"\n",
    "        return Vector(\n",
    "            self.x - other.x,\n",
    "            self.y - other.y\n",
    "        )\n",
    "    \n",
    "    def __repr__(self):\n",
    "        \"\"\"ベクトルのテキスト表現を返す\n",
    "        \"\"\"\n",
    "        return f\"<Vector: x={self.x}, y={self.y}>\"\n",
    "    \n",
    "    def __eq__(self, other):\n",
    "        \"\"\"２つのベクトルの等価比較\n",
    "        \"\"\"\n",
    "        return self.x == other.x and self.y == other.y\n",
    "\n",
    "print(Vector(2, 3))\n",
    "print(Vector(5, 3) + Vector(1, 2))\n",
    "print(Vector(5, 3) - Vector(1, 2))\n",
    "print(Vector(1, 1) == Vector(2, 2))\n",
    "print(Vector(2, 2) == Vector(2, 2))"
   ]
  },
  {
   "cell_type": "code",
   "execution_count": null,
   "metadata": {},
   "outputs": [],
   "source": [
    "# dataclassesモジュールによりinit, repr, eqを自動生成\n",
    "from dataclasses import dataclass\n",
    "\n",
    "@dataclass\n",
    "class VectorDataClass:\n",
    "    x: int\n",
    "    y: int\n",
    "    def __add__(self, other):\n",
    "        \"\"\"+演算子を使ったベクトルの足し算\n",
    "        \"\"\"\n",
    "        return VectorDataClass(\n",
    "            self.x + other.x,\n",
    "            self.y + other.y\n",
    "        )\n",
    "\n",
    "    def __sub__(self, other):\n",
    "        \"\"\"-演算子を使ったベクトルの引き算\n",
    "        \"\"\"\n",
    "        return VectorDataClass(\n",
    "            self.x - other.x,\n",
    "            self.y - other.y\n",
    "        )\n",
    "\n",
    "print(VectorDataClass(2, 3))\n",
    "print(VectorDataClass(5, 3) + VectorDataClass(1, 2))\n",
    "print(VectorDataClass(5, 3) - VectorDataClass(1, 2))\n",
    "print(VectorDataClass(1, 1) == VectorDataClass(2, 2))\n",
    "print(VectorDataClass(2, 2) == VectorDataClass(2, 2))"
   ]
  },
  {
   "cell_type": "code",
   "execution_count": null,
   "metadata": {},
   "outputs": [],
   "source": [
    "from dataclasses import dataclass, field\n",
    "\n",
    "# immutableなクラスに設定することができる\n",
    "@dataclass(frozen=True)\n",
    "class FrozenVector:\n",
    "    x: int\n",
    "    y: int\n",
    "\n",
    "\n",
    "# デフォルト値を設定することができる\n",
    "@dataclass\n",
    "class DataClassWithDefaults:\n",
    "    static_default: str = field(default=\"静的なデフォルト値\")\n",
    "    factory_default: list = field(default_factory=list)\n",
    "\n",
    "print(DataClassWithDefaults())"
   ]
  }
 ],
 "metadata": {
  "kernelspec": {
   "display_name": "Python 3",
   "language": "python",
   "name": "python3"
  },
  "language_info": {
   "codemirror_mode": {
    "name": "ipython",
    "version": 3
   },
   "file_extension": ".py",
   "mimetype": "text/x-python",
   "name": "python",
   "nbconvert_exporter": "python",
   "pygments_lexer": "ipython3",
   "version": "3.9.9"
  },
  "orig_nbformat": 4,
  "vscode": {
   "interpreter": {
    "hash": "71872653786f7c29614eefcceb2e375f4123be5e12270c1cabe973a72d127e5c"
   }
  }
 },
 "nbformat": 4,
 "nbformat_minor": 2
}
