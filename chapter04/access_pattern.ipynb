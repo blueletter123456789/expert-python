{
 "cells": [
  {
   "attachments": {},
   "cell_type": "markdown",
   "metadata": {},
   "source": [
    "### 名前マンダリング"
   ]
  },
  {
   "cell_type": "code",
   "execution_count": null,
   "metadata": {},
   "outputs": [],
   "source": [
    "class MyClass:\n",
    "    __secret_value = 1\n",
    "\n",
    "# privateキーワードの名前にアクセスするとAttributeError例外が送出される\n",
    "instance_of = MyClass()\n",
    "try:\n",
    "    print(instance_of.__secret_value)\n",
    "except Exception as ex:\n",
    "    print(ex)\n",
    "\n",
    "print(dir(instance_of))"
   ]
  },
  {
   "attachments": {},
   "cell_type": "markdown",
   "metadata": {},
   "source": [
    "### ディスクリプタ"
   ]
  },
  {
   "cell_type": "code",
   "execution_count": null,
   "metadata": {},
   "outputs": [],
   "source": [
    "class RevealAccess:\n",
    "    \"\"\"値を通常通り設定・返すデータディスクリプタ\n",
    "    アクセスログも出力する\n",
    "    \"\"\"\n",
    "    def __init__(self, initval=None, name='実数'):\n",
    "        self.val = initval\n",
    "        self.name = name\n",
    "    \n",
    "    def __get__(self, obj, objtype):\n",
    "        print('取得', self.name)\n",
    "        return self.val\n",
    "    \n",
    "    def __set__(self, obj, val):\n",
    "        print('更新', self.name)\n",
    "        self.val = val\n",
    "\n",
    "class MyClass(object):\n",
    "    x = RevealAccess(10, '実数\"x\"')\n",
    "    y = 5\n",
    "\n",
    "m = MyClass()\n",
    "\n",
    "# クラスが属性に対するデータディスクリプタを持つときはよばれる\n",
    "print(m.x)\n",
    "m.x = 20\n",
    "print(m.x)\n",
    "setattr(m, 'x', 30)\n",
    "print(m.y)"
   ]
  },
  {
   "cell_type": "code",
   "execution_count": null,
   "metadata": {},
   "outputs": [],
   "source": [
    "# Python内のオブジェクトは全て非ディスクリプタ\n",
    "def function(): pass\n",
    "\n",
    "print(hasattr(function, '__get__'))\n",
    "print(hasattr(function, '__set__'))\n",
    "\n",
    "print(hasattr(lambda: None, '__get__'))\n",
    "print(hasattr(lambda: None, '__set__'))"
   ]
  },
  {
   "attachments": {},
   "cell_type": "markdown",
   "metadata": {},
   "source": [
    "#### ディスクリプタ - 属性の遅延評価"
   ]
  },
  {
   "cell_type": "code",
   "execution_count": null,
   "metadata": {},
   "outputs": [],
   "source": [
    "# インスタンスから属性にアクセスされるまで初期化を遅延する\n",
    "class InitOnAccess:\n",
    "    def __init__(self, klass, *args, **kwargs) -> None:\n",
    "        self.klass = klass\n",
    "        self.args = args\n",
    "        self.kwargs = kwargs\n",
    "        self._initialized = None\n",
    "    \n",
    "    def __get__(self, instance, owner):\n",
    "        if self._initialized is None:\n",
    "            print('初期化')\n",
    "            self._initialized = self.klass(*self.args, **self.kwargs)\n",
    "        else:\n",
    "            print('キャッシュ済み')\n",
    "        return self._initialized\n",
    "\n",
    "\n",
    "class MyClass:\n",
    "    lazily_initialized = InitOnAccess(list, \"argument\")\n",
    "\n",
    "\n",
    "m = MyClass()\n",
    "print(m.lazily_initialized)\n",
    "print(m.lazily_initialized)"
   ]
  },
  {
   "attachments": {},
   "cell_type": "markdown",
   "metadata": {},
   "source": [
    "### プロパティ"
   ]
  },
  {
   "cell_type": "code",
   "execution_count": null,
   "metadata": {},
   "outputs": [],
   "source": [
    "class Rectangle:\n",
    "    def __init__(self, x1, y1, x2, y2):\n",
    "        self.x1, self.y1 = x1, y1\n",
    "        self.x2, self.y2 = x2, y2\n",
    "    \n",
    "    def _width_get(self):\n",
    "        return self.x2 - self.x1\n",
    "    \n",
    "    def _width_set(self, value):\n",
    "        self.x2 = self.x1 + value\n",
    "    \n",
    "    def _height_get(self):\n",
    "        return self.y2 - self.y1\n",
    "    \n",
    "    def _height_set(self, value):\n",
    "        self.y2 = self.y1 + value\n",
    "    \n",
    "    # プロパティにfget, fset, (fdel). docを設定\n",
    "    width = property(\n",
    "        _width_get, _width_set,\n",
    "        doc=\"長方形の幅\"\n",
    "    )\n",
    "\n",
    "    height = property(\n",
    "        _height_get, _height_set,\n",
    "        doc=\"長方形の高さ\"\n",
    "    )\n",
    "\n",
    "    def __repr__(self) -> str:\n",
    "        return \"{}({}, {}, {}, {})\".format(\n",
    "            self.__class__.__name__,\n",
    "            self.x1, self.y1, self.x2, self.y2\n",
    "        )\n",
    "\n",
    "rectangle = Rectangle(10, 10, 25, 34)\n",
    "print(rectangle.width, rectangle.height)\n",
    "\n",
    "rectangle.width = 100\n",
    "print(rectangle)\n",
    "\n",
    "rectangle.height = 100\n",
    "print(rectangle)\n",
    "\n",
    "help(Rectangle)\n",
    "\n",
    "\n",
    "# 継承したクラスにはプロパティ全体を派生クラス側でオーバーライド\n",
    "class MetricRectangle(Rectangle):\n",
    "    def _width_get(self):\n",
    "        return \"{} meters\".format(self.x2 - self.x1)\n",
    "    width = property(_width_get, Rectangle.width.fset)\n",
    "\n",
    "print(MetricRectangle(0, 0, 100, 100).width)"
   ]
  },
  {
   "cell_type": "code",
   "execution_count": null,
   "metadata": {},
   "outputs": [],
   "source": [
    "# プロパティをデコレータとして使用する\n",
    "class Rectangle:\n",
    "    def __init__(self, x1, y1, x2, y2):\n",
    "        self.x1, self.y1 = x1, y1\n",
    "        self.x2, self.y2 = x2, y2\n",
    "\n",
    "    @property\n",
    "    def width(self):\n",
    "        \"\"\"長方形の幅\n",
    "        \"\"\"\n",
    "        return self.x2 - self.x1\n",
    "\n",
    "    @width.setter\n",
    "    def width(self, value):\n",
    "        self.x2 = self.x1 + value\n",
    "\n",
    "    @property\n",
    "    def height(self):\n",
    "        \"\"\"長方形の高さ\n",
    "        \"\"\"\n",
    "        return self.y2 - self.y1\n",
    "\n",
    "    @height.setter\n",
    "    def height(self, value):\n",
    "        self.y2 = self.y1 + value\n",
    "\n",
    "    def __repr__(self) -> str:\n",
    "        return \"{}({}, {}, {}, {})\".format(\n",
    "            self.__class__.__name__,\n",
    "            self.x1, self.y1, self.x2, self.y2\n",
    "        )\n",
    "\n",
    "rectangle = Rectangle(10, 10, 25, 34)\n",
    "print(rectangle.width, rectangle.height)\n",
    "\n",
    "rectangle.width = 100\n",
    "print(rectangle)\n",
    "\n",
    "rectangle.height = 100\n",
    "print(rectangle)"
   ]
  },
  {
   "attachments": {},
   "cell_type": "markdown",
   "metadata": {},
   "source": [
    "### スロット"
   ]
  },
  {
   "cell_type": "code",
   "execution_count": null,
   "metadata": {},
   "outputs": [],
   "source": [
    "# __dict__を作成せず、プロパティを凍結することができる\n",
    "class Frozen:\n",
    "    __slots__ = ['ice', 'cream']\n",
    "\n",
    "print('__dict__' in dir(Frozen))\n",
    "print('ice' in dir(Frozen))\n",
    "\n",
    "frozen = Frozen()\n",
    "frozen.ice = True\n",
    "frozen.cream = None\n",
    "try:\n",
    "    frozen.icy = True\n",
    "except AttributeError as ex:\n",
    "    print(ex)\n"
   ]
  }
 ],
 "metadata": {
  "kernelspec": {
   "display_name": "Python 3",
   "language": "python",
   "name": "python3"
  },
  "language_info": {
   "codemirror_mode": {
    "name": "ipython",
    "version": 3
   },
   "file_extension": ".py",
   "mimetype": "text/x-python",
   "name": "python",
   "nbconvert_exporter": "python",
   "pygments_lexer": "ipython3",
   "version": "3.9.9"
  },
  "orig_nbformat": 4,
  "vscode": {
   "interpreter": {
    "hash": "71872653786f7c29614eefcceb2e375f4123be5e12270c1cabe973a72d127e5c"
   }
  }
 },
 "nbformat": 4,
 "nbformat_minor": 2
}
