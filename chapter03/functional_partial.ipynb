{
 "cells": [
  {
   "attachments": {},
   "cell_type": "markdown",
   "metadata": {},
   "source": [
    "### partial関数"
   ]
  },
  {
   "cell_type": "code",
   "execution_count": null,
   "metadata": {},
   "outputs": [],
   "source": [
    "# 固定値を入力することで部分関数を生成することができる\n",
    "from functools import partial\n",
    "\n",
    "# pow(x, y)のxを固定する。kwargsが設定できる場合は任意の関数\n",
    "powers_of_2 = partial(pow, 2)\n",
    "print(powers_of_2(1))\n",
    "print(powers_of_2(2))\n",
    "print(powers_of_2(3))\n",
    "print(powers_of_2(4))"
   ]
  },
  {
   "cell_type": "code",
   "execution_count": null,
   "metadata": {},
   "outputs": [],
   "source": [
    "# 関数を定義せずに使用可能\n",
    "from functools import partial\n",
    "from itertools import count\n",
    "powers_of_2 = map(partial(pow, 2), count())\n",
    "\n",
    "print(next(powers_of_2))\n",
    "print(next(powers_of_2))\n",
    "print(next(powers_of_2))\n",
    "print(next(powers_of_2))"
   ]
  }
 ],
 "metadata": {
  "kernelspec": {
   "display_name": "Python 3",
   "language": "python",
   "name": "python3"
  },
  "language_info": {
   "codemirror_mode": {
    "name": "ipython",
    "version": 3
   },
   "file_extension": ".py",
   "mimetype": "text/x-python",
   "name": "python",
   "nbconvert_exporter": "python",
   "pygments_lexer": "ipython3",
   "version": "3.9.9"
  },
  "orig_nbformat": 4,
  "vscode": {
   "interpreter": {
    "hash": "71872653786f7c29614eefcceb2e375f4123be5e12270c1cabe973a72d127e5c"
   }
  }
 },
 "nbformat": 4,
 "nbformat_minor": 2
}
