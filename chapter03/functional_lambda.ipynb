{
 "cells": [
  {
   "cell_type": "code",
   "execution_count": null,
   "metadata": {},
   "outputs": [],
   "source": [
    "# ラムダ関数\n",
    "import math\n",
    "\n",
    "# 一般的な関数\n",
    "def circle_area(radius):\n",
    "    return math.pi * radius ** 2\n",
    "\n",
    "print(circle_area(42))\n",
    "print(circle_area)\n",
    "print(circle_area.__class__)\n",
    "print(circle_area.__name__)\n",
    "\n",
    "circle_area = lambda radius: math.pi * radius ** 2\n",
    "print(circle_area(42))\n",
    "print(circle_area)\n",
    "print(circle_area.__class__)\n",
    "print(circle_area.__name__)"
   ]
  }
 ],
 "metadata": {
  "kernelspec": {
   "display_name": "Python 3",
   "language": "python",
   "name": "python3"
  },
  "language_info": {
   "codemirror_mode": {
    "name": "ipython",
    "version": 3
   },
   "file_extension": ".py",
   "mimetype": "text/x-python",
   "name": "python",
   "nbconvert_exporter": "python",
   "pygments_lexer": "ipython3",
   "version": "3.9.9"
  },
  "orig_nbformat": 4,
  "vscode": {
   "interpreter": {
    "hash": "71872653786f7c29614eefcceb2e375f4123be5e12270c1cabe973a72d127e5c"
   }
  }
 },
 "nbformat": 4,
 "nbformat_minor": 2
}
