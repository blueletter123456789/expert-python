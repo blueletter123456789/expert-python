{
 "cells": [
  {
   "attachments": {},
   "cell_type": "markdown",
   "metadata": {},
   "source": [
    "### コンテキストマネージャー"
   ]
  },
  {
   "cell_type": "code",
   "execution_count": null,
   "metadata": {},
   "outputs": [],
   "source": [
    "# with句を使用しない場合のエラー時のメソッド呼び出し\n",
    "hosts = open('/etc/hosts')\n",
    "\n",
    "try:\n",
    "    for line in hosts:\n",
    "        if line.startswith('#'):\n",
    "            continue\n",
    "        print(line.split())\n",
    "finally:\n",
    "    hosts.close()"
   ]
  },
  {
   "cell_type": "code",
   "execution_count": null,
   "metadata": {},
   "outputs": [],
   "source": [
    "# with句を使用した場合\n",
    "with open('/etc/hosts') as hosts:\n",
    "    for line in hosts:\n",
    "        if line.startswith('#'):\n",
    "            continue\n",
    "        print(line.split())"
   ]
  },
  {
   "cell_type": "code",
   "execution_count": null,
   "metadata": {},
   "outputs": [],
   "source": [
    "# 一般的な文法と利用可能な実装方法\n",
    "class Contextillustration:\n",
    "    def __enter__(self):\n",
    "        print('コンテキストに入った')\n",
    "        return 1\n",
    "    def __exit__(self ,exc_type, exc_value, traceback):\n",
    "        print('コンテキストから出た')\n",
    "        if exc_type is None:\n",
    "            print('エラーなし')\n",
    "        else:\n",
    "            print(f'エラーあり{exc_value}')\n",
    "\n",
    "with Contextillustration() as ci:\n",
    "    print('__enter__()での返り値', ci)\n",
    "    print('内部処理')\n",
    "\n",
    "with Contextillustration():\n",
    "    # クラス内の__exit__()を呼び出す\n",
    "    raise RuntimeError(\"'with'内部で送出された例外\")"
   ]
  },
  {
   "cell_type": "code",
   "execution_count": null,
   "metadata": {},
   "outputs": [],
   "source": [
    "# contextlibモジュールを使用したコンテキストマネージャ\n",
    "from contextlib import contextmanager\n",
    "\n",
    "@contextmanager\n",
    "def context_illustration():\n",
    "    print('コンテキストに入った')\n",
    "    try:\n",
    "        yield 1\n",
    "    except Exception as e:\n",
    "        print('コンテキストから出た')\n",
    "        print(f\"エラーあり{e}\")\n",
    "        # contextlibを使用した場合、例外を送出し直す必要がある\n",
    "        raise\n",
    "    else:\n",
    "        print('コンテキストから出た')\n",
    "        print('エラーなし')\n",
    "\n",
    "with context_illustration() as ci:\n",
    "    print('yieldでの返り値', ci)\n",
    "    print('内部処理')\n",
    "\n",
    "with context_illustration():\n",
    "    # クラス内の__exit__()を呼び出す\n",
    "    raise RuntimeError(\"'with'内部で送出された例外\")"
   ]
  },
  {
   "cell_type": "code",
   "execution_count": null,
   "metadata": {},
   "outputs": [],
   "source": [
    "from contextlib import closing, suppress, redirect_stdout\n",
    "\n",
    "# close()関数が実装されていれば呼び出される\n",
    "from urllib.request import urlopen\n",
    "\n",
    "with closing(urlopen('https://www.python.org')) as page:\n",
    "    for idx, line in enumerate(page):\n",
    "        if idx > 5:\n",
    "            break\n",
    "        print(line)\n",
    "\n",
    "\n",
    "# 指定したエラーを抑制することができる\n",
    "import os\n",
    "\n",
    "with suppress(FileNotFoundError):\n",
    "    os.remove('somefile.tmp')\n",
    "\n",
    "\n",
    "# 引数に指定したオブジェクトにリダイレクトする\n",
    "import io\n",
    "\n",
    "with redirect_stdout(io.StringIO()) as f:\n",
    "    help(pow)\n",
    "s = f.getvalue()\n",
    "print(s)"
   ]
  }
 ],
 "metadata": {
  "kernelspec": {
   "display_name": ".venv",
   "language": "python",
   "name": "python3"
  },
  "language_info": {
   "codemirror_mode": {
    "name": "ipython",
    "version": 3
   },
   "file_extension": ".py",
   "mimetype": "text/x-python",
   "name": "python",
   "nbconvert_exporter": "python",
   "pygments_lexer": "ipython3",
   "version": "3.9.9"
  },
  "orig_nbformat": 4,
  "vscode": {
   "interpreter": {
    "hash": "becf2a616f70853688ddf43562d591e9ac1bb40f43e695ba07cd67f3de543ecd"
   }
  }
 },
 "nbformat": 4,
 "nbformat_minor": 2
}
