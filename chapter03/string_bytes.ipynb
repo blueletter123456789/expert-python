{
 "cells": [
  {
   "cell_type": "code",
   "execution_count": null,
   "metadata": {},
   "outputs": [],
   "source": [
    "# bytesは0<=x<256の範囲の整数となる\n",
    "print(bytes([102, 111, 111]))"
   ]
  },
  {
   "cell_type": "code",
   "execution_count": null,
   "metadata": {},
   "outputs": [],
   "source": [
    "# bytes型とbytearray型（ミュータブル）\n",
    "print(list(b'foo'))\n",
    "print(tuple(b'foo bar'))\n",
    "\n",
    "# bytes型には接頭辞bもしくはBがつく\n",
    "print(type(b'some bytes'))\n",
    "print(type(B\"another bytes\"))\n",
    "# bytearrayの引数はbytes\n",
    "print(type(bytearray(b'byte array')))\n",
    "\n",
    "# str to bytes\n",
    "some_string = 'some string'\n",
    "print(some_string.encode(encoding='utf-8', errors='strict'))\n",
    "print(bytes(some_string, encoding='utf-8', errors='strict'))\n",
    "# bytes to str\n",
    "some_bytes = b'some bytes'\n",
    "print(some_bytes.decode(encoding='utf-8', errors='strict'))\n",
    "print(str(some_bytes, encoding='utf-8', errors='strict'))"
   ]
  },
  {
   "cell_type": "code",
   "execution_count": null,
   "metadata": {},
   "outputs": [],
   "source": [
    "# 文字列結合\n",
    "substrings = ['These ', 'are ', 'strings ', 'to ', 'concatenate.']\n",
    "s = ''\n",
    "\n",
    "# [SHOULD NOT]都度オブジェクトを生成する\n",
    "for substring in substrings:\n",
    "    s += substring\n",
    "print(s)\n",
    "\n",
    "# [SHOULD]joinによる結合\n",
    "print(''.join(substrings))\n",
    "# [SHOULD]束縛されていないメソッド呼び出しの利用\n",
    "print(str.join(\"\", substrings))\n",
    "\n",
    "# カンマ区切り\n",
    "print(','.join(['some', 'comma', 'separated', 'values']))\n",
    "\n",
    "a, b = 'using', 'formatting'\n",
    "# str.format\n",
    "print('{} {}'.format(a, b))\n",
    "# %演算子\n",
    "print('%s %s' % (a, b))\n",
    "# リテラル文字列補完\n",
    "print(f'{a} {b}')"
   ]
  },
  {
   "cell_type": "code",
   "execution_count": null,
   "metadata": {},
   "outputs": [],
   "source": [
    "# 文字列フォーマット\n",
    "from sys import version_info\n",
    "# 引数のシーケンスに変換される無名の置換\n",
    "print('This is Python {}.{}'.format(*version_info))\n",
    "# 明示的な引数のインデックス値\n",
    "print('This is Python {0}.{1}'.format(*version_info))\n",
    "# キーワード名\n",
    "print('This is Python {major}.{minor}'.format(\n",
    "    major=version_info.major, minor=version_info.minor))\n",
    "\n",
    "print(f'This is Python {version_info.major}.{version_info.minor}')\n",
    "\n",
    "# フォーマット指定子の使用 f\"{置換フィールド式 : フォーマット指定子}\"\n",
    "for x in range(10):\n",
    "    print(f'10^{x} == {10**x:10d}')"
   ]
  }
 ],
 "metadata": {
  "kernelspec": {
   "display_name": "Python 3.9.9 ('.venv': venv)",
   "language": "python",
   "name": "python3"
  },
  "language_info": {
   "codemirror_mode": {
    "name": "ipython",
    "version": 3
   },
   "file_extension": ".py",
   "mimetype": "text/x-python",
   "name": "python",
   "nbconvert_exporter": "python",
   "pygments_lexer": "ipython3",
   "version": "3.9.9 (main, May  2 2022, 21:35:30) \n[Clang 13.0.0 (clang-1300.0.29.3)]"
  },
  "orig_nbformat": 4,
  "vscode": {
   "interpreter": {
    "hash": "becf2a616f70853688ddf43562d591e9ac1bb40f43e695ba07cd67f3de543ecd"
   }
  }
 },
 "nbformat": 4,
 "nbformat_minor": 2
}
