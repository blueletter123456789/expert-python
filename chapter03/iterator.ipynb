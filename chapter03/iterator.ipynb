{
 "cells": [
  {
   "cell_type": "code",
   "execution_count": null,
   "metadata": {},
   "outputs": [],
   "source": [
    "# イテレータ\n",
    "i = iter('abc')\n",
    "print(next(i))\n",
    "print(next(i))\n",
    "print(next(i))\n",
    "# StopIteration例外が送出される\n",
    "print(next(i))"
   ]
  },
  {
   "cell_type": "code",
   "execution_count": null,
   "metadata": {},
   "outputs": [],
   "source": [
    "class CountDown:\n",
    "    def __init__(self, step):\n",
    "        self.step = step\n",
    "\n",
    "    def __next__(self):\n",
    "        if self.step <= 0:\n",
    "            raise StopIteration\n",
    "        self.step -= 1\n",
    "        return self.step\n",
    "\n",
    "    def __iter__(self):\n",
    "        # iterable状態を返す\n",
    "        return self\n",
    "\n",
    "count_down = CountDown(4)\n",
    "for element in count_down:\n",
    "    print(element)\n",
    "else:\n",
    "    print('end')\n",
    "\n",
    "# 一度実行すると再利用は不可\n",
    "for element in count_down:\n",
    "    print(element)\n",
    "else:\n",
    "    print('end')"
   ]
  },
  {
   "cell_type": "code",
   "execution_count": null,
   "metadata": {},
   "outputs": [],
   "source": [
    "# 再利用のため、繰り返しの状態を持つクラスとイテレータクラスに分類\n",
    "class CountState:\n",
    "    def __init__(self, step):\n",
    "        self.step = step\n",
    "    \n",
    "    def __next__(self):\n",
    "        if self.step <= 0:\n",
    "            raise StopIteration\n",
    "        self.step -= 1\n",
    "        return self.step\n",
    "\n",
    "class CountDown:\n",
    "    def __init__(self, steps):\n",
    "        self.steps = steps\n",
    "    \n",
    "    def __iter__(self):\n",
    "        # CountStateクラスをイテレータとして返す\n",
    "        return CountState(self.steps)\n",
    "\n",
    "count_down = CountDown(4)\n",
    "for element in count_down:\n",
    "    print(element)\n",
    "else:\n",
    "    print('end')\n",
    "\n",
    "for element in count_down:\n",
    "    print(element)\n",
    "else:\n",
    "    print('end')\n"
   ]
  },
  {
   "cell_type": "code",
   "execution_count": null,
   "metadata": {},
   "outputs": [],
   "source": [
    "# イテレータのアンパック\n",
    "a = [1, 2, 3]\n",
    "b = [4, 5, 6]\n",
    "\n",
    "c = [*a, *b]\n",
    "print(c)\n",
    "\n",
    "c = *a, 4, 5\n",
    "print(c)\n",
    "\n",
    "# 単純なアンパックはエラー\n",
    "c = *a"
   ]
  }
 ],
 "metadata": {
  "kernelspec": {
   "display_name": "Python 3.9.9 64-bit ('shims')",
   "language": "python",
   "name": "python3"
  },
  "language_info": {
   "codemirror_mode": {
    "name": "ipython",
    "version": 3
   },
   "file_extension": ".py",
   "mimetype": "text/x-python",
   "name": "python",
   "nbconvert_exporter": "python",
   "pygments_lexer": "ipython3",
   "version": "3.9.9"
  },
  "orig_nbformat": 4,
  "vscode": {
   "interpreter": {
    "hash": "71872653786f7c29614eefcceb2e375f4123be5e12270c1cabe973a72d127e5c"
   }
  }
 },
 "nbformat": 4,
 "nbformat_minor": 2
}
