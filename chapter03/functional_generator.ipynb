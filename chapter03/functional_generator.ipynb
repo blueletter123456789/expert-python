{
 "cells": [
  {
   "attachments": {},
   "cell_type": "markdown",
   "metadata": {},
   "source": [
    "### ジェネレータ式"
   ]
  },
  {
   "cell_type": "code",
   "execution_count": null,
   "metadata": {},
   "outputs": [],
   "source": [
    "# ジェネレータ式による関数型プログラミング\n",
    "from itertools import count\n",
    "\n",
    "sequence1 = filter(\n",
    "    lambda square: square % 3 == 0 and square % 2 == 1,\n",
    "    map(\n",
    "        lambda nubmer: nubmer ** 2,\n",
    "        count()\n",
    "    )\n",
    ")\n",
    "\n",
    "print(next(sequence1))\n",
    "print(next(sequence1))\n",
    "\n",
    "\n",
    "# ジェネレータを使用することでイテレータを受け取る関数に渡せる\n",
    "sequence2 = (\n",
    "    square for square\n",
    "    in (number ** 2 for number in count())\n",
    "    if square % 3 == 0 and square % 2 == 1\n",
    ")\n",
    "\n",
    "print(next(sequence2))\n",
    "print(next(sequence2))\n",
    "\n",
    "\n",
    "# セイウチ演算子を利用するとネストしないでかける\n",
    "sequence3 = (\n",
    "    square for number in count()\n",
    "    if (square := number ** 2) % 3 == 0 and square % 2 == 1\n",
    ")\n",
    "\n",
    "print(next(sequence3))\n",
    "print(next(sequence3))"
   ]
  }
 ],
 "metadata": {
  "kernelspec": {
   "display_name": "Python 3",
   "language": "python",
   "name": "python3"
  },
  "language_info": {
   "codemirror_mode": {
    "name": "ipython",
    "version": 3
   },
   "file_extension": ".py",
   "mimetype": "text/x-python",
   "name": "python",
   "nbconvert_exporter": "python",
   "pygments_lexer": "ipython3",
   "version": "3.9.9"
  },
  "orig_nbformat": 4,
  "vscode": {
   "interpreter": {
    "hash": "71872653786f7c29614eefcceb2e375f4123be5e12270c1cabe973a72d127e5c"
   }
  }
 },
 "nbformat": 4,
 "nbformat_minor": 2
}
