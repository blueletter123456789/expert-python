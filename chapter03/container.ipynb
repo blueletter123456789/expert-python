{
 "cells": [
  {
   "cell_type": "code",
   "execution_count": null,
   "metadata": {},
   "outputs": [],
   "source": [
    "# リスト内包表記\n",
    "print([i for i in range(10) if i % 2 == 0])\n",
    "\n",
    "# enumerate()関数\n",
    "for i, element in enumerate(['one', 'two', 'three']):\n",
    "    print(i, element)\n",
    "\n",
    "# zip関数\n",
    "for items in zip([1, 2, 3], [4, 5, 6]):\n",
    "    print(items)\n",
    "# zip関数の転置 →行と列が入れ替わる\n",
    "for items in zip(*zip([1, 2, 3], [4, 5, 6])):\n",
    "    print(items)\n",
    "# zip関数の切り捨て →一番短い引数\n",
    "for items in zip([1, 2, 3, 4], [1, 2]):\n",
    "    print(items)\n",
    "\n",
    "# アンパック\n",
    "first, second, third = 'foo', 'bar', 100\n",
    "print(f'{first=}, {second=}, {third=}')\n",
    "# スター式を使ってシーケンスの残りをrestにキャプチャ\n",
    "first, second, *rest = 0, 1, 2, 3\n",
    "print(f'{first=}, {second=}, {rest=}')\n",
    "# スター式を使ってシーケンスの真ん中のよそをキャプチャ\n",
    "first, *inner, last = 0, 1, 2, 3\n",
    "print(f'{first=}, {inner=}, {last=}')\n",
    "# ネストされたシーケンスのアンパック\n",
    "(a, b), (c, d) = (1, 2), (3, 4)\n",
    "print(f'{a=}, {b=}, {c=}, {d=}')\n"
   ]
  },
  {
   "cell_type": "code",
   "execution_count": null,
   "metadata": {},
   "outputs": [],
   "source": [
    "# 辞書内包表記\n",
    "squares = {number: number*2 for number in range(100)}\n",
    "print(type(squares))\n",
    "print(type(squares.keys()))\n",
    "print(type(squares.values()))\n",
    "print(type(squares.items()))\n",
    "\n",
    "# dict_itemsは現在の内容を表示\n",
    "person = {'name': 'John', 'last_name': 'Doe'}\n",
    "items = person.items()\n",
    "person['age'] = 42\n",
    "print(items)\n",
    "\n",
    "# Python3.6以降は順序が保存される\n",
    "print({number: None for number in range(5)}.keys())\n",
    "# **kwargs文法でも順序を保持\n",
    "def fun(**kwargs):\n",
    "    print(kwargs)\n",
    "fun(a=1, b=2, c=3)\n",
    "fun(c=1, b=2, a=3)\n",
    "\n",
    "# 古いバージョンで順序性が必要な場合はOrderDictを使用する\n",
    "from collections import OrderedDict\n",
    "print(OrderedDict((str(number), None) for number in range(5)).keys())"
   ]
  },
  {
   "cell_type": "code",
   "execution_count": null,
   "metadata": {},
   "outputs": [],
   "source": [
    "# setはmutablede. frozensetはimmutableのため、他のsetやfrozensetの要素にできる\n",
    "try:\n",
    "    print(set([set([1, 2, 3]), set([2, 3, 4])]))\n",
    "except TypeError as ex:\n",
    "    print(ex)\n",
    "print(set([frozenset([1, 2, 3]), frozenset([2, 3, 4])]))\n",
    "print(frozenset([frozenset([1, 2, 3]), frozenset([2, 3, 4])]))\n",
    "\n",
    "# setの作成方法\n",
    "print(set([1, 2, 3]))  # iterableな値を設定\n",
    "print({element // 2 for element in range(5)})  # set内包表記\n",
    "print({1, 2, 3})  # setリテラル"
   ]
  }
 ],
 "metadata": {
  "kernelspec": {
   "display_name": "Python 3.9.9 64-bit ('shims')",
   "language": "python",
   "name": "python3"
  },
  "language_info": {
   "codemirror_mode": {
    "name": "ipython",
    "version": 3
   },
   "file_extension": ".py",
   "mimetype": "text/x-python",
   "name": "python",
   "nbconvert_exporter": "python",
   "pygments_lexer": "ipython3",
   "version": "3.9.9"
  },
  "orig_nbformat": 4,
  "vscode": {
   "interpreter": {
    "hash": "71872653786f7c29614eefcceb2e375f4123be5e12270c1cabe973a72d127e5c"
   }
  }
 },
 "nbformat": 4,
 "nbformat_minor": 2
}
