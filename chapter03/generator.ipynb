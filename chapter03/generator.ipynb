{
 "cells": [
  {
   "attachments": {},
   "cell_type": "markdown",
   "metadata": {},
   "source": [
    "### ジェネレータとyeild文"
   ]
  },
  {
   "cell_type": "code",
   "execution_count": null,
   "metadata": {},
   "outputs": [],
   "source": [
    "def fibonacci():\n",
    "    a, b = 0, 1\n",
    "    while True:\n",
    "        yield b\n",
    "        a, b = b, a + b\n",
    "\n",
    "fib = fibonacci()\n",
    "print(next(fib))\n",
    "print(next(fib))\n",
    "print(next(fib))\n",
    "print([next(fib) for _ in range(10)])"
   ]
  },
  {
   "cell_type": "code",
   "execution_count": null,
   "metadata": {},
   "outputs": [],
   "source": [
    "import io\n",
    "import tokenize\n",
    "\n",
    "code = io.StringIO(\"\"\"\n",
    "if __name__ == '__main__':\n",
    "    print('Hello World!')\n",
    "\"\"\")\n",
    "\n",
    "# 行ごとに操作するテキストのストリームからトークンを生成する\n",
    "# code.readlineはファイルの行ごとにテキストを返す\n",
    "tokens = tokenize.generate_tokens(code.readline)\n",
    "print(next(tokens))\n",
    "print(next(tokens))\n",
    "print(next(tokens))\n",
    "print(next(tokens))\n",
    "print(next(tokens))\n",
    "print(next(tokens))\n",
    "print(next(tokens))\n",
    "print(next(tokens))"
   ]
  },
  {
   "cell_type": "code",
   "execution_count": null,
   "metadata": {},
   "outputs": [],
   "source": [
    "def capitalize(values):\n",
    "    for value in values:\n",
    "        yield value.upper()\n",
    "\n",
    "def hyphenate(values):\n",
    "    for value in values:\n",
    "        yield f'-{value}-'\n",
    "\n",
    "def leetspeak(values):\n",
    "    for value in values:\n",
    "        if value in {'t', 'T'}:\n",
    "            yield '7'\n",
    "        elif value in {'e', 'E'}:\n",
    "            yield '3'\n",
    "        else:\n",
    "            yield value\n",
    "\n",
    "def join(values):\n",
    "    return ''.join(values)\n",
    "\n",
    "\n",
    "print(join(capitalize('This will be uppercase text')))\n",
    "print(join(leetspeak('This isn\\'t a leet speak')))\n",
    "print(join(hyphenate('Will be hyphenated by words'.split())))\n",
    "print(join(hyphenate('Will be hyphenated by character')))"
   ]
  },
  {
   "cell_type": "code",
   "execution_count": null,
   "metadata": {},
   "outputs": [],
   "source": [
    "# next()関数で呼ばれたコードと相互にやりとりをする\n",
    "def psychologist():\n",
    "    print('Please tell me your problems.')\n",
    "    while True:\n",
    "        answer = (yield)\n",
    "        if answer is not None:\n",
    "            if answer.endswith('?'):\n",
    "                print(\"Don't ask yourself too much questions\")\n",
    "            elif 'good' in answer:\n",
    "                print(\"That's good, go on\")\n",
    "            elif 'bad' in answer:\n",
    "                print(\"Don't bo se negative\")\n",
    "\n",
    "free = psychologist()\n",
    "next(free)\n",
    "free.send('I feel bad')\n",
    "free.send(\"Why I shouldn't?\")\n",
    "free.send(\"ok then i should find what i good for me\")"
   ]
  }
 ],
 "metadata": {
  "kernelspec": {
   "display_name": "Python 3.9.9 64-bit ('shims')",
   "language": "python",
   "name": "python3"
  },
  "language_info": {
   "codemirror_mode": {
    "name": "ipython",
    "version": 3
   },
   "file_extension": ".py",
   "mimetype": "text/x-python",
   "name": "python",
   "nbconvert_exporter": "python",
   "pygments_lexer": "ipython3",
   "version": "3.9.9"
  },
  "orig_nbformat": 4,
  "vscode": {
   "interpreter": {
    "hash": "71872653786f7c29614eefcceb2e375f4123be5e12270c1cabe973a72d127e5c"
   }
  }
 },
 "nbformat": 4,
 "nbformat_minor": 2
}
