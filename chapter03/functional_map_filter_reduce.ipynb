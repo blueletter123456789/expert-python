{
 "cells": [
  {
   "attachments": {},
   "cell_type": "markdown",
   "metadata": {},
   "source": [
    "### map関数"
   ]
  },
  {
   "cell_type": "code",
   "execution_count": null,
   "metadata": {},
   "outputs": [],
   "source": [
    "# map自身もイテレータを返す\n",
    "print(map(lambda x: x**2, range(10)))\n",
    "print(list(map(lambda x: x**2, range(10))))\n",
    "\n",
    "# map()に複数の長さ違いのiterableを渡した場合\n",
    "list(map(print, range(5), range(4), range(5)))"
   ]
  },
  {
   "attachments": {},
   "cell_type": "markdown",
   "metadata": {},
   "source": [
    "### filter関数"
   ]
  },
  {
   "cell_type": "code",
   "execution_count": null,
   "metadata": {},
   "outputs": [],
   "source": [
    "# 引数の関数にマッチする入力値のみを通す\n",
    "evens = filter(lambda number: number % 2 == 0, range(10))\n",
    "odds = filter(lambda number: number % 2 == 1, range(10))\n",
    "print(f\"0から9の範囲の偶数: {list(evens)}\")\n",
    "print(f\"0から9の範囲の奇数: {list(odds)}\")\n",
    "\n",
    "animals = [\"キリン\", \"スネーク\", \"ライオン\", \"リス\"]\n",
    "animals_with_su = filter(lambda animal: \"ス\" in animal, animals)\n",
    "print(f\"スペルにすが含まれる動物: {list(animals_with_su)}\")"
   ]
  },
  {
   "attachments": {},
   "cell_type": "markdown",
   "metadata": {},
   "source": [
    "### map関数とfilter関数のイテレータ"
   ]
  },
  {
   "cell_type": "code",
   "execution_count": null,
   "metadata": {},
   "outputs": [],
   "source": [
    "# 無限イテレータをmap, filter関数で使用する\n",
    "from itertools import count\n",
    "sequence = filter(\n",
    "    # ３の倍数かつ奇数のものを返す\n",
    "    lambda square: square % 3 == 0 and square % 2 == 1,\n",
    "    map(\n",
    "        lambda number: number ** 2,\n",
    "        count()\n",
    "    )\n",
    ")\n",
    "\n",
    "print(next(sequence))\n",
    "print(next(sequence))\n",
    "print(next(sequence))"
   ]
  },
  {
   "attachments": {},
   "cell_type": "markdown",
   "metadata": {},
   "source": [
    "### reduce関数"
   ]
  },
  {
   "cell_type": "code",
   "execution_count": null,
   "metadata": {},
   "outputs": [],
   "source": [
    "# 累積的にfunctionに渡して実行する\n",
    "from functools import reduce\n",
    "\n",
    "print(reduce(lambda a, b: a + b, [2, 2]))\n",
    "print(reduce(lambda a, b: a + b, [2, 2, 2]))\n",
    "print(reduce(lambda a, b: a + b, range(100 + 1)))\n",
    "# 第一引数が累積の値となる\n",
    "print(reduce(lambda a, b: a - b, [3, 1, 1]))"
   ]
  }
 ],
 "metadata": {
  "kernelspec": {
   "display_name": "Python 3",
   "language": "python",
   "name": "python3"
  },
  "language_info": {
   "codemirror_mode": {
    "name": "ipython",
    "version": 3
   },
   "file_extension": ".py",
   "mimetype": "text/x-python",
   "name": "python",
   "nbconvert_exporter": "python",
   "pygments_lexer": "ipython3",
   "version": "3.9.9"
  },
  "orig_nbformat": 4,
  "vscode": {
   "interpreter": {
    "hash": "71872653786f7c29614eefcceb2e375f4123be5e12270c1cabe973a72d127e5c"
   }
  }
 },
 "nbformat": 4,
 "nbformat_minor": 2
}
