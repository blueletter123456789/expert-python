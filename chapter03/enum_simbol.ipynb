{
 "cells": [
  {
   "cell_type": "code",
   "execution_count": null,
   "metadata": {},
   "outputs": [],
   "source": [
    "from enum import Enum\n",
    "\n",
    "class Weekday(Enum):\n",
    "    MONDAY = 0\n",
    "    TUESDAY = 1\n",
    "    WEDNESDAY = 2\n",
    "    THURSDAY = 3\n",
    "    FRIDAY = 4\n",
    "    SATURDAY = 5\n",
    "    SUNDAY = 6\n",
    "\n",
    "print(Weekday.MONDAY)\n",
    "print(Weekday.MONDAY.name)\n",
    "print(Weekday.MONDAY.value)"
   ]
  },
  {
   "cell_type": "code",
   "execution_count": null,
   "metadata": {},
   "outputs": [],
   "source": [
    "from enum import auto\n",
    "\n",
    "class Subject(Enum):\n",
    "    # 値の中身が意味を持たない場合\n",
    "    MATH = auto()\n",
    "    SCIENCE = auto()\n",
    "\n",
    "print(Subject.MATH)\n",
    "print(Subject.MATH.name)\n",
    "print(Subject.MATH.value)\n",
    "\n",
    "\n",
    "# 変数に特定の値や選択肢から選択される値を入れる場面\n",
    "class OrderStatus(Enum):\n",
    "    PENDING = auto()\n",
    "    PROCESSING = auto()\n",
    "    PROCESSED = auto()\n",
    "\n",
    "class Order:\n",
    "    def __init__(self):\n",
    "        self.status = OrderStatus.PENDING\n",
    "    \n",
    "    def process(self):\n",
    "        if self.status == OrderStatus.PROCESSED:\n",
    "            raise RuntimeError('[ERROR]it has done.')\n",
    "        self.status = OrderStatus.PROCESSING\n",
    "\n",
    "try:\n",
    "    order = Order()\n",
    "    print(order.status)\n",
    "    order.process()\n",
    "    print(order.status)\n",
    "    order.status = OrderStatus.PROCESSED\n",
    "    order.process()\n",
    "except Exception as ex:\n",
    "    print(ex)\n"
   ]
  },
  {
   "cell_type": "code",
   "execution_count": null,
   "metadata": {},
   "outputs": [],
   "source": [
    "# ビットフラグとビットマスクを使って実装\n",
    "from enum import Flag\n",
    "\n",
    "class Side(Flag):\n",
    "    GUACAMOLE = auto()\n",
    "    TORTILLA = auto()\n",
    "    FRIES = auto()\n",
    "    BEER = auto()\n",
    "    POTATO_SALAD = auto()\n",
    "\n",
    "mexican_sides = Side.GUACAMOLE | Side.BEER | Side.TORTILLA\n",
    "bavarian_sides = Side.BEER | Side.POTATO_SALAD\n",
    "common_sides = mexican_sides & bavarian_sides\n",
    "print(Side.GUACAMOLE in mexican_sides)\n",
    "print(Side.TORTILLA in bavarian_sides)\n",
    "print(common_sides)"
   ]
  }
 ],
 "metadata": {
  "kernelspec": {
   "display_name": "Python 3.9.9 64-bit ('shims')",
   "language": "python",
   "name": "python3"
  },
  "language_info": {
   "codemirror_mode": {
    "name": "ipython",
    "version": 3
   },
   "file_extension": ".py",
   "mimetype": "text/x-python",
   "name": "python",
   "nbconvert_exporter": "python",
   "pygments_lexer": "ipython3",
   "version": "3.9.9 (main, May  2 2022, 21:35:30) \n[Clang 13.0.0 (clang-1300.0.29.3)]"
  },
  "orig_nbformat": 4,
  "vscode": {
   "interpreter": {
    "hash": "71872653786f7c29614eefcceb2e375f4123be5e12270c1cabe973a72d127e5c"
   }
  }
 },
 "nbformat": 4,
 "nbformat_minor": 2
}
