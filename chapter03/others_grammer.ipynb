{
 "cells": [
  {
   "attachments": {},
   "cell_type": "markdown",
   "metadata": {},
   "source": [
    "### for-else節"
   ]
  },
  {
   "cell_type": "code",
   "execution_count": null,
   "metadata": {},
   "outputs": [],
   "source": [
    "# 途中で処理が終了しない場合はelse節に入る\n",
    "for number in range(1):\n",
    "    print(\"break!\")\n",
    "    break\n",
    "else:\n",
    "    print(\"no break\")\n",
    "\n",
    "for number in range(1):\n",
    "    print(\"some process\")\n",
    "    pass\n",
    "else:\n",
    "    print(\"no break\")\n"
   ]
  },
  {
   "attachments": {},
   "cell_type": "markdown",
   "metadata": {},
   "source": [
    "### キーワードのみの引数"
   ]
  },
  {
   "cell_type": "code",
   "execution_count": null,
   "metadata": {},
   "outputs": [],
   "source": [
    "# 題の機能を使用しない関数\n",
    "def process_order(order, client, suppress_notifications=False, supress_payment=False):\n",
    "    pass\n",
    "\n",
    "def open_order(order, client):\n",
    "    pass\n",
    "\n",
    "def archive_order(order, client):\n",
    "    pass\n",
    "\n",
    "order, client = 'order', 'client'\n",
    "open_order(order, client)\n",
    "archive_order(order, client)\n",
    "process_order(order, client)\n",
    "# キーワード引数が増えることで可読性が低下する\n",
    "process_order(order, client, True)\n",
    "process_order(order, client, False)\n",
    "process_order(order, client, True, True)\n",
    "process_order(order, client, True, False)\n",
    "process_order(order, client, False, True)\n",
    "process_order(order, client, False, False)\n",
    "\n",
    "# 位置引数の拡張時を防ぐ\n",
    "def process_order(order, client,\n",
    "                  *,\n",
    "                  suppress_notification=False,\n",
    "                  suppress_payment=False):\n",
    "    pass\n",
    "\n",
    "# python3.8より「/」により位置のみの引数を利用できる\n",
    "import sys\n",
    "class Some:\n",
    "\n",
    "    file = sys.stdout\n",
    "\n",
    "    def log1(self, message, /, **kwds):\n",
    "        # kwdsにselfやmessageを含められる\n",
    "        s = ' | '.join(f\"{k}={v}\" for k, v in kwds.items())\n",
    "        print(message, s, file=self.file)\n",
    "\n",
    "    def log2(self, message, **kwds):\n",
    "        # kwdsにselfやmessageを含められる\n",
    "        s = ' | '.join(f\"{k}={v}\" for k, v in kwds.items())\n",
    "        print(message, s, file=self.file)\n",
    "\n",
    "some_class = Some()\n",
    "some_class.log1('hello world', message='hi', test1='test1', test2='test2')\n",
    "try:\n",
    "    some_class.log2('hello world', message='hi', test1='test1', test2='test2')\n",
    "except Exception as ex:\n",
    "    print(ex)\n"
   ]
  },
  {
   "attachments": {},
   "cell_type": "markdown",
   "metadata": {},
   "source": [
    "### セイウチ演算子による代入式"
   ]
  },
  {
   "cell_type": "code",
   "execution_count": null,
   "metadata": {},
   "outputs": [],
   "source": [
    "# 実行結果を評価しつつ次のロジックで使用したい場合\n",
    "import re\n",
    "\n",
    "data = 'abcdef'\n",
    "pattern = re.compile('(?<=abc)def')\n",
    "\n",
    "# セイウチ演算子を使用する場合\n",
    "if (match := pattern.search(data)) is not None:\n",
    "    print(match)\n",
    "\n",
    "# セイウチ演算子を使用しない場合\n",
    "match = pattern.search(data)\n",
    "if match:\n",
    "    print(match)\n"
   ]
  },
  {
   "cell_type": "code",
   "execution_count": null,
   "metadata": {},
   "outputs": [],
   "source": [
    "import re\n",
    "\n",
    "pattern1 = re.compile('Python')\n",
    "pattern2 = re.compile('python')\n",
    "data = 'hello python.'\n",
    "\n",
    "# セイウチ演算子を利用することで余分なコードを実行することがない\n",
    "if (match1 := pattern1.search(data)) is not None:\n",
    "    print(match1)\n",
    "elif (match2 := pattern2.search(data)) is not None:\n",
    "    print(match2)\n",
    "\n",
    "# 短いが実行時に無駄な計算コストを払っている: セイウチ演算子を使用しない場合\n",
    "match1 = pattern1.search(data)\n",
    "match2 = pattern2.search(data)\n",
    "if match1:\n",
    "    print(match1)\n",
    "elif match2:\n",
    "    print(match2)\n",
    "# セイウチ演算子を利用しない場合の正しい例\n",
    "match1 = pattern1.search(data)\n",
    "if match1:\n",
    "    print(match1)\n",
    "else:\n",
    "    match2 = pattern2.search(data)\n",
    "    if match2:\n",
    "        result = match2.group()\n",
    "    else:\n",
    "        result = None\n",
    "    print(result)"
   ]
  }
 ],
 "metadata": {
  "kernelspec": {
   "display_name": "Python 3",
   "language": "python",
   "name": "python3"
  },
  "language_info": {
   "codemirror_mode": {
    "name": "ipython",
    "version": 3
   },
   "file_extension": ".py",
   "mimetype": "text/x-python",
   "name": "python",
   "nbconvert_exporter": "python",
   "pygments_lexer": "ipython3",
   "version": "3.9.9"
  },
  "orig_nbformat": 4,
  "vscode": {
   "interpreter": {
    "hash": "71872653786f7c29614eefcceb2e375f4123be5e12270c1cabe973a72d127e5c"
   }
  }
 },
 "nbformat": 4,
 "nbformat_minor": 2
}
