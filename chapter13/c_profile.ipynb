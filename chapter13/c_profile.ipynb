{
 "cells": [
  {
   "attachments": {},
   "cell_type": "markdown",
   "metadata": {},
   "source": [
    "### インタラクティブを使用したプロファイリング"
   ]
  },
  {
   "cell_type": "code",
   "execution_count": null,
   "metadata": {},
   "outputs": [],
   "source": [
    "import cProfile\n",
    "\n",
    "from myapp import main\n",
    "\n",
    "\n",
    "profiler = cProfile.Profile()\n",
    "profiler.runcall(main)\n",
    "profiler.print_stats()"
   ]
  },
  {
   "attachments": {},
   "cell_type": "markdown",
   "metadata": {},
   "source": [
    "### 統計情報のファイル保存と読み込み"
   ]
  },
  {
   "cell_type": "code",
   "execution_count": null,
   "metadata": {},
   "outputs": [],
   "source": [
    "import cProfile\n",
    "import pstats\n",
    "\n",
    "from myapp import main\n",
    "\n",
    "cProfile.run(\"main()\", \"myapp.stats\")\n",
    "stats = pstats.Stats(\"myapp.stats\")\n",
    "\n",
    "# 呼び出し回数\n",
    "print(stats.total_calls)\n",
    "# timeメトリックでソートした昇順した結果\n",
    "stats.sort_stats(\"time\").print_stats(3)\n",
    "\n",
    "# 関数の呼び出し元や呼び出し先を調べる\n",
    "stats.print_callees(\"medium\")\n",
    "stats.print_callees(\"light\")"
   ]
  },
  {
   "attachments": {},
   "cell_type": "markdown",
   "metadata": {},
   "source": [
    "### 簡易的な実行時間測定"
   ]
  },
  {
   "cell_type": "code",
   "execution_count": null,
   "metadata": {},
   "outputs": [],
   "source": [
    "import timeit\n",
    "\n",
    "from myapp import light\n",
    "\n",
    "timeit.timeit(light, number=1000)"
   ]
  }
 ],
 "metadata": {
  "kernelspec": {
   "display_name": ".venv",
   "language": "python",
   "name": "python3"
  },
  "language_info": {
   "codemirror_mode": {
    "name": "ipython",
    "version": 3
   },
   "file_extension": ".py",
   "mimetype": "text/x-python",
   "name": "python",
   "nbconvert_exporter": "python",
   "pygments_lexer": "ipython3",
   "version": "3.10.7"
  },
  "orig_nbformat": 4,
  "vscode": {
   "interpreter": {
    "hash": "becf2a616f70853688ddf43562d591e9ac1bb40f43e695ba07cd67f3de543ecd"
   }
  }
 },
 "nbformat": 4,
 "nbformat_minor": 2
}
